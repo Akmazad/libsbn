{
 "cells": [
  {
   "cell_type": "code",
   "execution_count": null,
   "metadata": {},
   "outputs": [],
   "source": [
    "import branch_length\n",
    "import distributions\n",
    "\n",
    "import altair as alt\n",
    "import numpy as np\n",
    "import pandas as pd\n",
    "import scipy.stats as stats\n",
    "\n",
    "alt.renderers.enable(\"notebook\")\n",
    "\n",
    "import importlib \n",
    "importlib.reload(branch_length)\n",
    "importlib.reload(distributions)"
   ]
  },
  {
   "cell_type": "code",
   "execution_count": null,
   "metadata": {},
   "outputs": [],
   "source": [
    "x_vals = np.linspace(0.1, 5, 40)\n",
    "x_vals_transpose = np.transpose(np.array([x_vals]))\n",
    "\n",
    "def plot_functions(f_true, f_approx):\n",
    "    x_transpose = np.transpose(np.array([x_vals]))\n",
    "    data = pd.DataFrame({\"x\": x_vals, \"truth\": f_true(x_vals_transpose), \n",
    "                         \"approx\": f_approx(x_vals_transpose)})\n",
    "    return alt.Chart(data.melt(id_vars=[\"x\"])).mark_line().encode(\n",
    "        x='x',\n",
    "        y='value',\n",
    "        color='variable'\n",
    "    )\n",
    "\n",
    "def kl_div(f_true, f_approx):\n",
    "    return {\n",
    "        \"standard\": stats.entropy(f_true(x_vals_transpose), f_approx(x_vals_transpose)),\n",
    "        \"reversed\": stats.entropy(f_approx(x_vals_transpose), f_true(x_vals_transpose))}"
   ]
  },
  {
   "cell_type": "code",
   "execution_count": null,
   "metadata": {},
   "outputs": [],
   "source": [
    "stepsz = 0.1\n",
    "grad_clip = 100.\n",
    "d = distributions.Normal(1)\n",
    "true_loc = np.array([2.])\n",
    "true_shape = np.array([1.])\n",
    "phylo_log_like = lambda x: d.log_prob(x, true_loc, true_shape)\n",
    "phylo_log_like_grad = lambda x: d.log_prob_grad(x, true_loc, true_shape)\n",
    "\n",
    "loc = np.array([1.])\n",
    "shape = np.array([0.5])\n",
    "q = lambda x: d.log_prob(x, loc, shape)"
   ]
  },
  {
   "cell_type": "code",
   "execution_count": null,
   "metadata": {},
   "outputs": [],
   "source": [
    "def gradient_step(sample_count):\n",
    "    global loc, shape\n",
    "    x = d.sample(loc, shape, sample_count)\n",
    "    x_transpose = np.transpose(np.array([x]))\n",
    "    weights = branch_length.like_weights(d, phylo_log_like(x), x, loc, shape)\n",
    "    loc_grad, shape_grad = branch_length.param_grad(d, weights, phylo_log_like_grad(x), x, loc, shape)\n",
    "\n",
    "    if False:\n",
    "        print(\"before\")\n",
    "        print(x)\n",
    "        print(weights)\n",
    "        print(loc_grad)\n",
    "        print(shape_grad)\n",
    "\n",
    "    loc += np.clip(loc_grad*stepsz, -grad_clip, grad_clip)\n",
    "    shape += np.clip(shape_grad*stepsz, -grad_clip, grad_clip)\n",
    "\n",
    "    if False:\n",
    "        print(\"after\")\n",
    "        print(true_loc, loc, loc_grad*stepsz)\n",
    "        print(true_shape, shape, shape_grad*stepsz)\n",
    "    return kl_div(phylo_log_like, q)\n",
    "    \n",
    "plot_functions(phylo_log_like, q)"
   ]
  },
  {
   "cell_type": "code",
   "execution_count": null,
   "metadata": {},
   "outputs": [],
   "source": [
    "loc = np.array([0.])\n",
    "shape = np.array([0.5])\n",
    "results = [kl_div(phylo_log_like, q)]\n",
    "\n",
    "for _ in range(40):\n",
    "    results.append(gradient_step(1))\n",
    "\n",
    "plot_data = pd.DataFrame(results).reset_index()\n",
    "    \n",
    "alt.Chart(\n",
    "    pd.melt(plot_data, id_vars=[\"index\"], var_name=\"variant\", value_name=\"KL divergence\")\n",
    "    ).mark_line().encode(\n",
    "        alt.X(\"index\"),\n",
    "        alt.Y(\"KL divergence\",\n",
    "              scale=alt.Scale(domain=(0., 0.6))),\n",
    "        color=\"variant\"\n",
    "    )"
   ]
  }
 ],
 "metadata": {
  "kernelspec": {
   "display_name": "Python 3",
   "language": "python",
   "name": "python3"
  },
  "language_info": {
   "codemirror_mode": {
    "name": "ipython",
    "version": 3
   },
   "file_extension": ".py",
   "mimetype": "text/x-python",
   "name": "python",
   "nbconvert_exporter": "python",
   "pygments_lexer": "ipython3",
   "version": "3.7.3"
  }
 },
 "nbformat": 4,
 "nbformat_minor": 2
}
