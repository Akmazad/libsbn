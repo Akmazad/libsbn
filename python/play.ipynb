{
 "cells": [
  {
   "cell_type": "code",
   "execution_count": null,
   "metadata": {},
   "outputs": [],
   "source": [
    "import branch_length\n",
    "import distributions\n",
    "\n",
    "import altair as alt\n",
    "import numpy as np\n",
    "import pandas as pd\n",
    "\n",
    "alt.renderers.enable(\"notebook\")\n",
    "\n",
    "import importlib \n",
    "importlib.reload(branch_length)\n",
    "importlib.reload(distributions)"
   ]
  },
  {
   "cell_type": "code",
   "execution_count": null,
   "metadata": {},
   "outputs": [],
   "source": [
    "def plot_functions(f_true, f_approx):\n",
    "    x_vals = np.linspace(0.1, 5, 40)\n",
    "    x_transpose = np.transpose(np.array([x_vals]))\n",
    "    data = pd.DataFrame({\"x\": x_vals, \"truth\": f_true(np.transpose(np.array([x_vals]))), \n",
    "                         \"approx\": f_approx(np.transpose(np.array([x_vals])))})\n",
    "    return alt.Chart(data.melt(id_vars=[\"x\"])).mark_line().encode(\n",
    "        x='x',\n",
    "        y='value',\n",
    "        color='variable'\n",
    "    )"
   ]
  },
  {
   "cell_type": "code",
   "execution_count": null,
   "metadata": {},
   "outputs": [],
   "source": [
    "stepsz = 0.05\n",
    "grad_clip = 100.\n",
    "d = distributions.Normal(1)\n",
    "true_loc = np.array([2.])\n",
    "true_shape = np.array([1.])\n",
    "phylo_log_like = lambda x: d.log_prob(x, true_loc, true_shape)\n",
    "phylo_log_like_grad = lambda x: d.log_prob_grad(x, true_loc, true_shape)\n",
    "\n",
    "loc = np.array([1.9])\n",
    "shape = np.array([0.95])"
   ]
  },
  {
   "cell_type": "code",
   "execution_count": null,
   "metadata": {},
   "outputs": [],
   "source": [
    "x = d.sample(loc, shape, 1)\n",
    "x_transpose = np.transpose(np.array([x]))\n",
    "loc_grad, shape_grad = branch_length.param_grad(d, phylo_log_like_grad(x), x, loc, shape)\n",
    "\n",
    "print(\"before\")\n",
    "print(true_loc, loc, loc_grad*stepsz)\n",
    "print(true_shape, shape, shape_grad*stepsz)\n",
    "\n",
    "loc += np.clip(loc_grad*stepsz, -grad_clip, grad_clip)\n",
    "shape += np.clip(shape_grad*stepsz, -grad_clip, grad_clip)\n",
    "\n",
    "print(\"after\")\n",
    "print(true_loc, loc, loc_grad*stepsz)\n",
    "print(true_shape, shape, shape_grad*stepsz)\n",
    "\n",
    "plot_functions(phylo_log_like, lambda x: d.log_prob(x, loc, shape))"
   ]
  },
  {
   "cell_type": "code",
   "execution_count": null,
   "metadata": {},
   "outputs": [],
   "source": []
  }
 ],
 "metadata": {
  "kernelspec": {
   "display_name": "Python 3",
   "language": "python",
   "name": "python3"
  },
  "language_info": {
   "codemirror_mode": {
    "name": "ipython",
    "version": 3
   },
   "file_extension": ".py",
   "mimetype": "text/x-python",
   "name": "python",
   "nbconvert_exporter": "python",
   "pygments_lexer": "ipython3",
   "version": "3.7.3"
  }
 },
 "nbformat": 4,
 "nbformat_minor": 2
}
