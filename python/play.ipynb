{
 "cells": [
  {
   "cell_type": "code",
   "execution_count": null,
   "metadata": {},
   "outputs": [],
   "source": [
    "import branch_length\n",
    "import distributions\n",
    "from optimizers import SGD_Server\n",
    "\n",
    "import altair as alt\n",
    "import numpy as np\n",
    "import pandas as pd\n",
    "import scipy.stats as stats\n",
    "\n",
    "alt.renderers.enable(\"notebook\")\n",
    "\n",
    "import importlib \n",
    "importlib.reload(branch_length)\n",
    "importlib.reload(distributions)\n",
    "importlib.reload(optimizers)"
   ]
  },
  {
   "cell_type": "code",
   "execution_count": null,
   "metadata": {},
   "outputs": [],
   "source": [
    "x_vals = np.linspace(0.1, 5, 40)\n",
    "x_vals_transpose = np.transpose(np.array([x_vals]))\n",
    "\n",
    "def plot_functions(f_true, f_approx):\n",
    "    x_transpose = np.transpose(np.array([x_vals]))\n",
    "    data = pd.DataFrame({\"x\": x_vals, \"truth\": f_true(x_vals_transpose), \n",
    "                         \"approx\": f_approx(x_vals_transpose)})\n",
    "    return alt.Chart(data.melt(id_vars=[\"x\"])).mark_line().encode(\n",
    "        x='x',\n",
    "        y='value',\n",
    "        color='variable'\n",
    "    )\n",
    "\n",
    "def kl_div(f_true, f_approx):\n",
    "    return {\n",
    "        \"standard\": stats.entropy(f_true(x_vals_transpose), f_approx(x_vals_transpose)),\n",
    "        \"reversed\": stats.entropy(f_approx(x_vals_transpose), f_true(x_vals_transpose))}"
   ]
  },
  {
   "cell_type": "code",
   "execution_count": null,
   "metadata": {},
   "outputs": [],
   "source": [
    "branch_length_param_count = 1\n",
    "infer_opt = SGD_Server({'loc': branch_length_param_count, 'shape': branch_length_param_count})\n",
    "stepsz = 0.1\n",
    "stepsz_dict = {'loc': stepsz, 'shape': stepsz}\n",
    "\n",
    "clip = 100.\n",
    "d = distributions.Normal(1)\n",
    "true_loc = np.array([2.])\n",
    "true_shape = np.array([1.])\n",
    "phylo_log_like = lambda x: d.log_prob(x, true_loc, true_shape)\n",
    "phylo_log_like_grad = lambda x: d.log_prob_grad(x, true_loc, true_shape)\n",
    "\n",
    "loc = np.array([1.])\n",
    "shape = np.array([0.5])\n",
    "q = lambda x: d.log_prob(x, loc, shape)"
   ]
  },
  {
   "cell_type": "code",
   "execution_count": null,
   "metadata": {},
   "outputs": [],
   "source": [
    "def gradient_step(sample_count):\n",
    "    global loc, shape, infer_opt, stepsz_dict\n",
    "    x = d.sample(loc, shape, sample_count)\n",
    "    x_transpose = np.transpose(np.array([x]))\n",
    "    weights = branch_length.like_weights(d, phylo_log_like(x), x, loc, shape, clip)\n",
    "    loc_grad, shape_grad = branch_length.param_grad(d, weights, phylo_log_like_grad(x), x, loc, shape)\n",
    "    if clip:\n",
    "        loc_grad = np.clip(loc_grad, -clip, clip)\n",
    "        shape_grad = np.clip(shape_grad, -clip, clip)\n",
    "    \n",
    "    if False:\n",
    "        print(\"before\")\n",
    "        print(x)\n",
    "        print(weights)\n",
    "        print(loc_grad)\n",
    "        print(shape_grad)\n",
    "\n",
    "    adam = True\n",
    "    if adam:\n",
    "        # TODO clipping\n",
    "        update_dict = infer_opt.adam(stepsz_dict, {'loc': loc, 'shape': shape}, \n",
    "                                     {'loc': loc_grad, 'shape': shape_grad})\n",
    "        loc += update_dict['loc']\n",
    "        shape += update_dict['shape']\n",
    "    else:\n",
    "        # Naive thing\n",
    "        loc += loc_grad*stepsz\n",
    "        shape += shape_grad*stepsz\n",
    "\n",
    "    if False:\n",
    "        print(\"after\")\n",
    "        print(true_loc, loc, loc_grad*stepsz)\n",
    "        print(true_shape, shape, shape_grad*stepsz)\n",
    "    return kl_div(phylo_log_like, q)"
   ]
  },
  {
   "cell_type": "code",
   "execution_count": null,
   "metadata": {},
   "outputs": [],
   "source": [
    "loc = np.array([1.5])\n",
    "shape = np.array([0.5])\n",
    "results = [kl_div(phylo_log_like, q)]\n",
    "\n",
    "for _ in range(50):\n",
    "    results.append(gradient_step(10))\n",
    "\n",
    "plot_data = pd.DataFrame(results).reset_index()\n",
    "    \n",
    "alt.Chart(\n",
    "    pd.melt(plot_data, id_vars=[\"index\"], var_name=\"variant\", value_name=\"KL divergence\")\n",
    "    ).mark_line().encode(\n",
    "        alt.X(\"index\"),\n",
    "        alt.Y(\"KL divergence\",\n",
    "              scale=alt.Scale(domain=(0., 0.6))),\n",
    "        color=\"variant\"\n",
    "    )"
   ]
  },
  {
   "cell_type": "code",
   "execution_count": null,
   "metadata": {},
   "outputs": [],
   "source": [
    "plot_functions(phylo_log_like, q)"
   ]
  }
 ],
 "metadata": {
  "kernelspec": {
   "display_name": "Python 3",
   "language": "python",
   "name": "python3"
  },
  "language_info": {
   "codemirror_mode": {
    "name": "ipython",
    "version": 3
   },
   "file_extension": ".py",
   "mimetype": "text/x-python",
   "name": "python",
   "nbconvert_exporter": "python",
   "pygments_lexer": "ipython3",
   "version": "3.7.3"
  }
 },
 "nbformat": 4,
 "nbformat_minor": 2
}
